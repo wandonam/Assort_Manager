{
 "cells": [
  {
   "cell_type": "markdown",
   "metadata": {},
   "source": [
    "### <mark>**✅Assort Manager**"
   ]
  },
  {
   "cell_type": "markdown",
   "metadata": {},
   "source": [
    "#### **Library**"
   ]
  },
  {
   "cell_type": "code",
   "execution_count": 135,
   "metadata": {},
   "outputs": [],
   "source": [
    "import pandas as pd\n",
    "from datetime import datetime\n",
    "import os"
   ]
  },
  {
   "cell_type": "markdown",
   "metadata": {},
   "source": [
    "#### **Define**"
   ]
  },
  {
   "cell_type": "code",
   "execution_count": 136,
   "metadata": {},
   "outputs": [],
   "source": [
    "# 1. 데이터 불러오기\n",
    "assign = pd.read_csv('./result/total_stock.csv', encoding='utf-8-sig')\n",
    "sku = pd.read_csv('./data/sku.csv', encoding='cp949')\n",
    "t1 = pd.read_csv('./result/t1.csv', encoding='cp949')\n",
    "\n",
    "# 3. 판매량 정보 merge\n",
    "df = assign.merge(t1, on='sku', how='left')\n",
    "df['t1'] = df['t1'].fillna(0)\n",
    "\n",
    "# 4. TODAY\n",
    "today = datetime.today().strftime('%Y%m%d')"
   ]
  },
  {
   "cell_type": "code",
   "execution_count": 137,
   "metadata": {},
   "outputs": [],
   "source": [
    "df = sku.merge(t1[['sku', 't1']], on='sku', how='left')"
   ]
  },
  {
   "cell_type": "code",
   "execution_count": 138,
   "metadata": {},
   "outputs": [],
   "source": [
    "df['t1'] = df['t1'].fillna(0)\n",
    "df['used'] = df['quantity'] * df['t1']\n",
    "result = df.groupby('material')['used'].sum().reset_index()"
   ]
  },
  {
   "cell_type": "code",
   "execution_count": 139,
   "metadata": {},
   "outputs": [],
   "source": [
    "result['stock'] = 5000 - result['used']"
   ]
  },
  {
   "cell_type": "code",
   "execution_count": 140,
   "metadata": {},
   "outputs": [],
   "source": [
    "stock = pd.DataFrame()\n",
    "stock['sku'] = result['material']\n",
    "stock['stock'] = result['stock']"
   ]
  },
  {
   "cell_type": "code",
   "execution_count": 141,
   "metadata": {},
   "outputs": [],
   "source": [
    "# 10. TO CSV\n",
    "stock.to_csv(f'./data/stock.csv', index=False, encoding='utf-8-sig')"
   ]
  }
 ],
 "metadata": {
  "kernelspec": {
   "display_name": "base",
   "language": "python",
   "name": "python3"
  },
  "language_info": {
   "codemirror_mode": {
    "name": "ipython",
    "version": 3
   },
   "file_extension": ".py",
   "mimetype": "text/x-python",
   "name": "python",
   "nbconvert_exporter": "python",
   "pygments_lexer": "ipython3",
   "version": "3.12.4"
  }
 },
 "nbformat": 4,
 "nbformat_minor": 2
}
