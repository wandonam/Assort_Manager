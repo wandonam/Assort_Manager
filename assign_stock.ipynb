{
 "cells": [
  {
   "cell_type": "markdown",
   "metadata": {},
   "source": [
    "### <mark>**✅Assign Stock**"
   ]
  },
  {
   "cell_type": "markdown",
   "metadata": {},
   "source": [
    "#### **Library**"
   ]
  },
  {
   "cell_type": "code",
   "execution_count": 59,
   "metadata": {},
   "outputs": [],
   "source": [
    "import pandas as pd\n",
    "from datetime import datetime"
   ]
  },
  {
   "cell_type": "markdown",
   "metadata": {},
   "source": [
    "#### **Define**"
   ]
  },
  {
   "cell_type": "code",
   "execution_count": 60,
   "metadata": {},
   "outputs": [],
   "source": [
    "# 1. 데이터 불러오기\n",
    "stock = pd.read_csv('./data/stock.csv', encoding='utf-8-sig')\n",
    "sales = pd.read_csv('./data/sales.csv', encoding='cp949')\n",
    "sku = pd.read_csv('./data/sku.csv', encoding='cp949')\n",
    "\n",
    "# 2. 자재 재고 딕셔너리화\n",
    "stock = dict(zip(stock['sku'], stock['stock']))\n",
    "\n",
    "# 3. 판매량 정보 merge\n",
    "sales_sku = sku.merge(sales, on='sku', how='left')\n",
    "\n",
    "# 4. TODAY\n",
    "today = datetime.today().strftime('%Y%m%d')"
   ]
  },
  {
   "cell_type": "markdown",
   "metadata": {},
   "source": [
    "#### **Assign**"
   ]
  },
  {
   "cell_type": "code",
   "execution_count": 61,
   "metadata": {},
   "outputs": [],
   "source": [
    "# 4. 자재 사용량 계산\n",
    "sales_sku['material_usage'] = sales_sku['quantity'] * sales_sku['sales']\n",
    "total_usage = sales_sku.groupby('material')['material_usage'].sum().to_dict()\n",
    "\n",
    "# 5. 비중 기반 자재 할당량 계산\n",
    "sales_sku['material_ratio'] = sales_sku.apply(\n",
    "    lambda row: row['material_usage'] / total_usage[row['material']] if total_usage[row['material']] > 0 else 0,\n",
    "    axis=1\n",
    ")\n",
    "sales_sku['allocated_material'] = sales_sku.apply(\n",
    "    lambda row: row['material_ratio'] * stock[row['material']],\n",
    "    axis=1\n",
    ")\n",
    "\n",
    "# 6. SKU별 할당 가능한 주문 수량 계산\n",
    "sku_group = sales_sku.groupby(['code', 'sku', 'material'])[['quantity', 'allocated_material']].sum().reset_index()\n",
    "sku_group['max_units'] = sku_group['allocated_material'] // sku_group['quantity']\n",
    "final_units = sku_group.groupby(['code', 'sku'])['max_units'].min().astype(int)\n",
    "\n",
    "# 7. 자재별 실제 사용량 계산\n",
    "sku_group = sku_group.merge(final_units.rename('allocated_units'), on=['code', 'sku'])\n",
    "sku_group['used_stock'] = sku_group['allocated_units'] * sku_group['quantity']\n",
    "\n",
    "# 8. 자재별 할당량 계산\n",
    "material_usage = sku_group.pivot(index=['code', 'sku'], columns='material', values='used_stock').fillna(0).astype(int)\n",
    "material_usage['assign'] = final_units.values\n",
    "\n",
    "# 9. 결과 정리\n",
    "material_usage = material_usage.reset_index().set_index(['code', 'sku'])\n",
    "material_usage.index.names = ['code', 'sku']\n",
    "assign_stock = material_usage[[col for col in material_usage.columns if col != 'assign'] + ['assign']]"
   ]
  },
  {
   "cell_type": "code",
   "execution_count": 62,
   "metadata": {},
   "outputs": [],
   "source": [
    "# 10. TO CSV\n",
    "assign_stock.to_csv(f'./result/{today}_stock.csv', encoding='utf-8-sig')"
   ]
  }
 ],
 "metadata": {
  "kernelspec": {
   "display_name": "base",
   "language": "python",
   "name": "python3"
  },
  "language_info": {
   "codemirror_mode": {
    "name": "ipython",
    "version": 3
   },
   "file_extension": ".py",
   "mimetype": "text/x-python",
   "name": "python",
   "nbconvert_exporter": "python",
   "pygments_lexer": "ipython3",
   "version": "3.12.4"
  }
 },
 "nbformat": 4,
 "nbformat_minor": 2
}
